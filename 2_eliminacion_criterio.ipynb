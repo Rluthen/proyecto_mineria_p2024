{
 "cells": [
  {
   "cell_type": "markdown",
   "metadata": {},
   "source": [
    "# Eliminación de preguntas que no cumplen los criterios\n",
    "Con el dataset limpio, podemos comenzar a realizar un análisis utilizando algunas técnicas de NLP para eliminar aquellas preguntas que no cumplan con los criterios del INE establecidos en el punto\n",
    "\n",
    "El resultado de este paso serán:\n",
    "- Un archivo que contenga el texto de las preguntas que no cumplen los criterios y una breve explicación de porqué no está cumpliéndolos (discurso de odio, violencia, malas palabras, etc.)\n",
    "\n",
    "- Un archivo con las preguntas restantes (los campos serán los mismos que en el punto 3.1)\n",
    "\n",
    "- ID del registro\n",
    "\n",
    "- Entidad de Origen\n",
    "\n",
    "- Edad\n",
    "\n",
    "- Género\n",
    "\n",
    "- Identificación con algún grupo en situación de discriminación\n",
    "\n",
    "- Tema de la pregunta\n",
    "\n",
    "- Texto de la pregunta"
   ]
  },
  {
   "cell_type": "code",
   "execution_count": 1,
   "metadata": {},
   "outputs": [],
   "source": [
    "import pandas as pd\n",
    "\n",
    "limpio_df = pd.read_csv('./Base_limpia.csv')"
   ]
  }
 ],
 "metadata": {
  "kernelspec": {
   "display_name": "base",
   "language": "python",
   "name": "python3"
  },
  "language_info": {
   "codemirror_mode": {
    "name": "ipython",
    "version": 3
   },
   "file_extension": ".py",
   "mimetype": "text/x-python",
   "name": "python",
   "nbconvert_exporter": "python",
   "pygments_lexer": "ipython3",
   "version": "3.8.8"
  }
 },
 "nbformat": 4,
 "nbformat_minor": 2
}
