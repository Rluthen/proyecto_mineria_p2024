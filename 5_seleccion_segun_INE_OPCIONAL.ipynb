{
 "cells": [
  {
   "cell_type": "markdown",
   "metadata": {},
   "source": [
    "# Selección de preguntas según metodología del INE\n",
    "\n",
    "## 2. Requerimientos del INE\n",
    "\n",
    "### 2.1 Dataset con los registros de las preguntas\n",
    "\n",
    "El dataset \"crudo\" entregado por el INE contiene los siguientes campos:\n",
    "- ID del registro\n",
    "- Entidad de Origen\n",
    "- Edad\n",
    "- Género\n",
    "- Identificación con algún grupo en situación de discriminación\n",
    "- Tema de la pregunta\n",
    "- Texto de la pregunta\n",
    "- Desea agregar otra pregunta\n",
    "- Tema de la pregunta 2\n",
    "- Texto de la pregunta 2\n",
    "    - Se repiten los 3 campos anteriores hasta tener máximo 6 preguntas por cada ID\n",
    "- Día y hora (timestamp) del envío de la pregunta\n",
    "\n",
    "### 2.2 Condiciones para aceptación de una pregunta\n",
    "\n",
    "1. Las preguntas deben apegarse a los temas definidos para el debate\n",
    "2. La redacción de las preguntas no debe incluir: discurso de odio, inclinación partidista, \n",
    "ideológica o religiosa o cualquier manifestación de violencia o discriminación, o referirse a \n",
    "algún logro de gobierno y/o propaganda gubernamental\n",
    "3. Las preguntas deben redactarse en forma general y abierta y no estar dirigidas a una \n",
    "candidatura específica."
   ]
  }
 ],
 "metadata": {
  "language_info": {
   "name": "python"
  }
 },
 "nbformat": 4,
 "nbformat_minor": 2
}
