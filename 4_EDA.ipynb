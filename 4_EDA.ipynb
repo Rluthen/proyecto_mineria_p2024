{
 "cells": [
  {
   "cell_type": "markdown",
   "metadata": {},
   "source": [
    "# EDA con las preguntas restantes\n",
    "\n",
    "Ya con el dataset limpio y depurado, podemos comenzar a realizar análisis exploratorio para extraer información a partir de los registros y las preguntas.\n",
    "\n",
    "Con el dataset depurado vamos a intentar responder a las siguientes preguntas, utiliza gráficos para ilustrar tus respuestas:\n",
    "\n",
    "1. **Distribución de las preguntas por:**\n",
    "    1. Tema\n",
    "    2. Entidad\n",
    "    3. Género\n",
    "    4. Grupos vulnerables\n",
    "    5. Grupos de edad (13-18, 18-25, 25-40 y mayores)\n"
   ]
  },
  {
   "cell_type": "code",
   "execution_count": 4,
   "metadata": {},
   "outputs": [
    {
     "name": "stdout",
     "output_type": "stream",
     "text": [
      "Distribution of questions by theme:\n",
      "Combate a la corrupción                   5274\n",
      "Educación                                 4972\n",
      "Salud                                     4684\n",
      "Transparencia                             2983\n",
      "No discriminación y grupos vulnerables    2453\n",
      "Violencia en contra de las mujeres        1940\n",
      "Name: tema, dtype: int64\n",
      "Distribution of questions by entity:\n",
      "Ciudad de México       5576\n",
      "México                 3279\n",
      "Jalisco                1430\n",
      "Veracruz               1210\n",
      "Guanajuato              931\n",
      "Puebla                  886\n",
      "Nuevo León              702\n",
      "Michoacán               631\n",
      "Baja California         592\n",
      "Querétaro               562\n",
      "Chihuahua               495\n",
      "Hidalgo                 451\n",
      "Chiapas                 446\n",
      "Morelos                 421\n",
      "Yucatán                 413\n",
      "Oaxaca                  397\n",
      "Tabasco                 373\n",
      "Coahuila                367\n",
      "Guerrero                347\n",
      "San Luis Potosí         339\n",
      "Tamaulipas              313\n",
      "Sonora                  306\n",
      "Aguascalientes          275\n",
      "Sinaloa                 264\n",
      "Tlaxcala                231\n",
      "Durango                 217\n",
      "Quintana Roo            198\n",
      "Zacatecas               169\n",
      "Nayarit                 129\n",
      "Colima                  126\n",
      "Campeche                125\n",
      "Baja California Sur     105\n",
      "Name: entidad, dtype: int64\n",
      "Distribution of questions by gender:\n",
      "Masculino     13790\n",
      "Femenino       7907\n",
      "Otro            310\n",
      "Selecciona      299\n",
      "Name: genero, dtype: int64\n",
      "Distribution of questions by vulnerable groups:\n",
      "Personas adultas mayores                          3434\n",
      "Personas de la diversidad sexual                  2581\n",
      "Personas con discapacidad                         1460\n",
      "Personas indígenas                                1008\n",
      "Personas mexicanas residentes en el extranjero     279\n",
      "Personas migrantes                                 207\n",
      "Personas afromexicanas                             161\n",
      "Name: grupo_discriminacion, dtype: int64\n",
      "Distribution of questions by age groups:\n",
      "18    900\n",
      "20    889\n",
      "21    679\n",
      "19    643\n",
      "23    609\n",
      "     ... \n",
      "88      2\n",
      "84      2\n",
      "89      1\n",
      "92      1\n",
      "86      1\n",
      "Name: edad, Length: 77, dtype: int64\n"
     ]
    }
   ],
   "source": [
    "import pandas as pd\n",
    "\n",
    "limpio_df = pd.read_csv('./Base_limpia.csv')\n",
    "\n",
    "# Distribution of questions by theme\n",
    "theme_counts = limpio_df['tema'].value_counts()\n",
    "print(\"Distribution of questions by theme:\")\n",
    "print(theme_counts)\n",
    "\n",
    "# Distribution of questions by entity\n",
    "entity_counts = limpio_df['entidad'].value_counts()\n",
    "print(\"Distribution of questions by entity:\")\n",
    "print(entity_counts)\n",
    "\n",
    "# Distribution of questions by gender\n",
    "gender_counts = limpio_df['genero'].value_counts()\n",
    "print(\"Distribution of questions by gender:\")\n",
    "print(gender_counts)\n",
    "\n",
    "# Distribution of questions by vulnerable groups\n",
    "vulnerable_counts = limpio_df['grupo_discriminacion'].value_counts()\n",
    "print(\"Distribution of questions by vulnerable groups:\")\n",
    "print(vulnerable_counts)\n",
    "\n",
    "# Distribution of questions by age groups\n",
    "age_counts = limpio_df['edad'].value_counts()\n",
    "print(\"Distribution of questions by age groups:\")\n",
    "print(age_counts)\n"
   ]
  },
  {
   "cell_type": "markdown",
   "metadata": {},
   "source": [
    "2. **Cruces entre las variables del punto anterior:**\n",
    "    1. Qué temas interesan más por género\n",
    "    2. Por entidad\n",
    "    3. Por grupo de edad\n"
   ]
  },
  {
   "cell_type": "code",
   "execution_count": 5,
   "metadata": {},
   "outputs": [
    {
     "name": "stdout",
     "output_type": "stream",
     "text": [
      "tema                                    genero    \n",
      "Combate a la corrupción                 Femenino      1465\n",
      "                                        Masculino     3699\n",
      "                                        Otro            61\n",
      "                                        Selecciona      49\n",
      "Educación                               Femenino      1706\n",
      "                                        Masculino     3178\n",
      "                                        Otro            48\n",
      "                                        Selecciona      40\n",
      "No discriminación y grupos vulnerables  Femenino       960\n",
      "                                        Masculino     1374\n",
      "                                        Otro            96\n",
      "                                        Selecciona      23\n",
      "Salud                                   Femenino      1750\n",
      "                                        Masculino     2779\n",
      "                                        Otro            42\n",
      "                                        Selecciona     113\n",
      "Transparencia                           Femenino       895\n",
      "                                        Masculino     2005\n",
      "                                        Otro            34\n",
      "                                        Selecciona      49\n",
      "Violencia en contra de las mujeres      Femenino      1131\n",
      "                                        Masculino      755\n",
      "                                        Otro            29\n",
      "                                        Selecciona      25\n",
      "dtype: int64\n"
     ]
    }
   ],
   "source": [
    "tema_genero = limpio_df.groupby(['tema', 'genero']).size()\n",
    "print(tema_genero)\n",
    "\n",
    "tema_entidad = limpio_df.groupby(['tema', 'entidad']).size()\n",
    "print(tema_entidad)\n",
    "\n",
    "tema_edad = limpio_df.groupby(['tema', 'edad']).size()\n",
    "print(tema_edad)"
   ]
  },
  {
   "cell_type": "markdown",
   "metadata": {},
   "source": [
    "\n",
    "3. **Separa las preguntas por tema y genera nubes de palabras y tablas de frecuencia para mostrar:**\n",
    "    1. Qué palabras, bi-gramas o tri-gramas son los que más se repiten por tema\n",
    "    2. Por entidad\n",
    "    3. Por género\n"
   ]
  },
  {
   "cell_type": "code",
   "execution_count": null,
   "metadata": {},
   "outputs": [],
   "source": []
  },
  {
   "cell_type": "markdown",
   "metadata": {},
   "source": [
    "\n",
    "4. **Separa las preguntas por tema y realiza un análisis de sentimientos y de emociones.**\n",
    "    1. Muestra los resultados en forma tabular o gráfica"
   ]
  },
  {
   "cell_type": "code",
   "execution_count": null,
   "metadata": {},
   "outputs": [],
   "source": []
  }
 ],
 "metadata": {
  "kernelspec": {
   "display_name": "base",
   "language": "python",
   "name": "python3"
  },
  "language_info": {
   "codemirror_mode": {
    "name": "ipython",
    "version": 3
   },
   "file_extension": ".py",
   "mimetype": "text/x-python",
   "name": "python",
   "nbconvert_exporter": "python",
   "pygments_lexer": "ipython3",
   "version": "3.8.8"
  }
 },
 "nbformat": 4,
 "nbformat_minor": 2
}
