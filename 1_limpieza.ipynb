{
 "cells": [
  {
   "cell_type": "markdown",
   "metadata": {},
   "source": [
    "# Limpieza del Dataset\n",
    "\n",
    "La primera actividad consiste en la limpieza del dataset, de manera que éste cumpla con los requerimientos del “Tidy Data”, es decir:\n",
    "\n",
    "1. Cada renglón o fila del dataset corresponde a una observación o individuo.\n",
    "2. Cada columna del dataset corresponde a una y sólo una variable.\n",
    "3. No se mezcla información de naturaleza diferente.\n",
    "\n",
    "En el caso del dataset entregado por el INE, estos principios, sobre todo el número 1, no se respetan ya que en nuestro caso, una observación/individuo es una (y sólo una) pregunta. El resultado de esta actividad es un dataset (almacenado en un archivo CSV) que contenga los siguientes campos:\n",
    "\n",
    "- ID del registro\n",
    "- Entidad de Origen\n",
    "- Edad\n",
    "- Género\n",
    "- Identificación con algún grupo en situación de discriminación\n",
    "- Tema de la pregunta\n",
    "- Texto de la pregunta\n",
    "\n",
    "Es decir, en los casos en los que una persona envió más de una pregunta, cada pregunta debe estar en su renglón con el resto de los datos de identificación."
   ]
  },
  {
   "cell_type": "markdown",
   "metadata": {},
   "source": [
    "# Processo"
   ]
  },
  {
   "cell_type": "markdown",
   "metadata": {},
   "source": [
    "1. Se importan las librería necesarias para esta etapa."
   ]
  },
  {
   "cell_type": "code",
   "execution_count": 33,
   "metadata": {},
   "outputs": [],
   "source": [
    "import pandas as pd\n",
    "from utils import save_df, DATASET\n",
    "import re"
   ]
  },
  {
   "cell_type": "markdown",
   "metadata": {},
   "source": [
    "2. Se lee el dataset y se cambian los valores de la columna 'Edad:' de 'str' a 'int'"
   ]
  },
  {
   "cell_type": "code",
   "execution_count": 34,
   "metadata": {},
   "outputs": [],
   "source": [
    "crudo_df = pd.read_excel(DATASET)\n",
    "crudo_df['Edad:'] = crudo_df['Edad:'].str.replace(' años', '').astype(int)"
   ]
  },
  {
   "cell_type": "markdown",
   "metadata": {},
   "source": [
    "3. Se normalizan los nombres de las columnas."
   ]
  },
  {
   "cell_type": "code",
   "execution_count": 37,
   "metadata": {},
   "outputs": [],
   "source": [
    "crudo_df.rename(columns = {\n",
    "        '¿Cuál es tu entidad de origen?': 'entidad', \n",
    "        'Edad:': 'edad',\n",
    "        'Género:': 'genero',\n",
    "        '¿Te identificas con alguno de los siguientes Grupos en Situación de Discriminación?': 'grupo_discriminacion',\n",
    "        'Indica el tema de tu pregunta:': 'tema',\n",
    "        'Escribe tu pregunta:': 'pregunta',\n",
    "        '¿Deseas agregar otra pregunta?': 'extra',\n",
    "        'Indica el tema de tu pregunta: (2)': 'tema2',\n",
    "        'Escribe tu pregunta: (2)': 'pregunta2',\n",
    "        '¿Deseas agregar otra pregunta? (2)': 'extra2',\n",
    "        'Indica el tema de tu pregunta: (3)': 'tema3',\n",
    "        'Escribe tu pregunta: (3)': 'pregunta3',\n",
    "        '¿Deseas agregar otra pregunta? (3)': 'extra3',\n",
    "        'Indica el tema de tu pregunta: (4)': 'tema4',\n",
    "        'Escribe tu pregunta: (4)': 'pregunta4',\n",
    "        '¿Deseas agregar otra pregunta? (4)': 'extra4',\n",
    "        'Indica el tema de tu pregunta: (5)': 'tema5',\n",
    "        'Escribe tu pregunta: (5)': 'pregunta5',\n",
    "        '¿Deseas agregar otra pregunta? (5)': 'extra5',\n",
    "        'Indica el tema de tu pregunta: (6)': 'tema6',\n",
    "        'Escribe tu pregunta: (6)': 'pregunta6',\n",
    "        'Fecha de entrada': 'fecha'\n",
    "    }, inplace = True)"
   ]
  },
  {
   "cell_type": "markdown",
   "metadata": {},
   "source": [
    "4. Se genera un nueva entrada si el usuario ingreso más de una pregunta.\n",
    "\n",
    "Primero se crea una lista de DF con las siguientes entradas: 'entidad', 'edad', 'genero', 'grupo_discriminacion', 'tema','pregunta', 'fecha'. Cada DF contiene solo la primera pregunta de cada usuario"
   ]
  },
  {
   "cell_type": "code",
   "execution_count": 38,
   "metadata": {},
   "outputs": [],
   "source": [
    "todo_preguntas = []\n",
    "todo_preguntas.append(crudo_df[['entidad', 'edad', 'genero', 'grupo_discriminacion', 'tema','pregunta', 'fecha']])"
   ]
  },
  {
   "cell_type": "markdown",
   "metadata": {},
   "source": [
    "Se generan las demás entradas con las demás preguntas ingresadas por el usuario."
   ]
  },
  {
   "cell_type": "code",
   "execution_count": 39,
   "metadata": {},
   "outputs": [],
   "source": [
    "#Asignación de los Archivos a la Lista\n",
    "for idx in range(2, 6+1):\n",
    "    todo_preguntas.append(crudo_df[['entidad', 'edad', 'genero', 'grupo_discriminacion', 'tema'+str(idx),'pregunta'+str(idx), 'fecha']].rename(columns={'tema'+str(idx): 'tema', 'pregunta'+str(idx): 'pregunta'}))"
   ]
  },
  {
   "cell_type": "markdown",
   "metadata": {},
   "source": [
    "Se concatenan todos los DF en un solo DF y se eliminan las entradas que contengan NA (que significa que el usuario no ingreso pregunta X)"
   ]
  },
  {
   "cell_type": "code",
   "execution_count": 40,
   "metadata": {},
   "outputs": [],
   "source": [
    "#Concatenación de los Elementos de la Lista a un DataFrame\n",
    "limpio_df = pd.concat(todo_preguntas)\n",
    "limpio_df = limpio_df.dropna()"
   ]
  },
  {
   "cell_type": "markdown",
   "metadata": {},
   "source": [
    "5. Se normaliza algunas columnas:\n",
    "    1. Los usuarios que no pertenezcan a ningún grupo de discriminación pasa de 'Selecciona' a 'N/A'.\n",
    "    2. La columna de 'fecha' pasa de 'str' a 'timestap'.\n",
    "    3. Se eliminar las entradas exactamente iguales.\n",
    "    4. Remover saltos de linea."
   ]
  },
  {
   "cell_type": "code",
   "execution_count": 55,
   "metadata": {},
   "outputs": [],
   "source": [
    "limpio_df['grupo_discriminacion'] = limpio_df['grupo_discriminacion'].str.replace('Selecciona','No Aplica')\n",
    "limpio_df['fecha'] = limpio_df['fecha'].replace({'enero': '01', 'febrero': '02', 'marzo': '03', 'abril': '04', 'mayo': '05', 'junio': '06', 'julio': '07', 'agosto': '08', 'septiembre': '09', 'octubre': '10', 'noviembre': '11', 'diciembre': '12'}, regex=True)\n",
    "limpio_df['fecha'] = pd.to_datetime(limpio_df['fecha'], format='%d %m, %Y %I:%M %p')\n",
    "limpio_df['pregunta'] = limpio_df['pregunta'].replace(r'\\n', ' ', regex=True) # Este paso puede generar dos espacios\n",
    "limpio_df.drop_duplicates(inplace=True)"
   ]
  },
  {
   "cell_type": "markdown",
   "metadata": {},
   "source": [
    "6. Se guarda el DF"
   ]
  },
  {
   "cell_type": "code",
   "execution_count": 53,
   "metadata": {},
   "outputs": [],
   "source": [
    "save_df(limpio_df, 0, index=False)"
   ]
  }
 ],
 "metadata": {
  "kernelspec": {
   "display_name": "mining",
   "language": "python",
   "name": "python3"
  },
  "language_info": {
   "codemirror_mode": {
    "name": "ipython",
    "version": 3
   },
   "file_extension": ".py",
   "mimetype": "text/x-python",
   "name": "python",
   "nbconvert_exporter": "python",
   "pygments_lexer": "ipython3",
   "version": "3.11.8"
  }
 },
 "nbformat": 4,
 "nbformat_minor": 2
}
