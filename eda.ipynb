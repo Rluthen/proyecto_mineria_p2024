{
 "cells": [
  {
   "cell_type": "markdown",
   "metadata": {},
   "source": [
    "# EDA con las preguntas restantes\n",
    "\n",
    "Ya con el dataset limpio y depurado, podemos comenzar a realizar análisis exploratorio para extraer información a partir de los registros y las preguntas.\n",
    "\n",
    "Con el dataset depurado vamos a intentar responder a las siguientes preguntas, utiliza gráficos para ilustrar tus respuestas:\n",
    "\n",
    "1. **Distribución de las preguntas por:**\n",
    "    1. Tema\n",
    "    2. Entidad\n",
    "    3. Género\n",
    "    4. Grupos vulnerables\n",
    "    5. Grupos de edad (13-18, 18-25, 25-40 y mayores)\n",
    "\n",
    "2. **Cruces entre las variables del punto anterior:**\n",
    "    1. Qué temas interesan más por género\n",
    "    2. Por entidad\n",
    "    3. Por grupo de edad\n",
    "\n",
    "3. **Separa las preguntas por tema y genera nubes de palabras y tablas de frecuencia para mostrar:**\n",
    "    1. Qué palabras, bi-gramas o tri-gramas son los que más se repiten por tema\n",
    "    2. Por entidad\n",
    "    3. Por género\n",
    "\n",
    "4. **Separa las preguntas por tema y realiza un análisis de sentimientos y de emociones.**\n",
    "    1. Muestra los resultados en forma tabular o gráfica\n"
   ]
  }
 ],
 "metadata": {
  "language_info": {
   "name": "python"
  }
 },
 "nbformat": 4,
 "nbformat_minor": 2
}
