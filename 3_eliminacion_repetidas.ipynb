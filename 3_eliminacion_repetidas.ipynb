{
 "cells": [
  {
   "cell_type": "markdown",
   "metadata": {},
   "source": [
    "# Eliminación de preguntas repetidas\n",
    "Ya con todas las preguntas que cumplen los requisitos del INE para ser tomadas en cuenta, vamos \n",
    "a hacer otra depuración para eliminar aquellas preguntas que están repetidas.\n",
    "Es importante considerar que dos preguntas pueden ser iguales aún cuando estén formuladas con \n",
    "palabras diferentes (es decir, una puede ser paráfrasis de la otra).\n",
    "El resultado de este paso serán dos archivos:\n",
    "\n",
    "    • Uno que contenga el texto de las preguntas repetidas, así como una métrica que mida su \n",
    "      parecido. De estas preguntas, sólo se conservará 1 en el dataset de trabajo.\n",
    "\n",
    "        ◦ La pregunta que será conservada es aquella que fue enviada primero de acuerdo al \n",
    "          timestamp\n",
    "          \n",
    "    • Un archivo con las preguntas depuradas (eliminando las repeticiones)"
   ]
  },
  {
   "cell_type": "code",
   "execution_count": null,
   "metadata": {},
   "outputs": [],
   "source": [
    "import pandas as pd"
   ]
  }
 ],
 "metadata": {
  "language_info": {
   "name": "python"
  }
 },
 "nbformat": 4,
 "nbformat_minor": 2
}
